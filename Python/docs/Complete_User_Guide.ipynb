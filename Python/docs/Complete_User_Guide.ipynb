{
 "cells": [
  {
   "cell_type": "markdown",
   "metadata": {},
   "source": [
    "# Slants Python API: Complete User Guide\n",
    "### Rachit Jas, Jie Ding - 10/06/2019"
   ]
  },
  {
   "cell_type": "markdown",
   "metadata": {},
   "source": [
    "The purpose of this document is to familiarize the user with the easy-to-use Python API for the SLANTS algorithm, as proposed by **Quiyi Han, Jie Ding, Edoardo M. Airoldi and Vahid Tarokh** in their work in _IEEE Transactions on Signal Processing 65 (19), 4994-5005_, by exposing the underlying convenience API via a step-by-step approach. This hands-on guide has been prepared in a manner such that the user can easily follow along to get a sense of how to utiize the Slants API for their personal anaytical studies. A demonstration accompanies every detailed description section of the API method in consideration to ensure that the user understands the use case of that specific method. This guide assumes that the user has already installed the latest 'slants' package from the PyPI.org website."
   ]
  },
  {
   "cell_type": "markdown",
   "metadata": {},
   "source": [
    "<a name=\"top\"></a>\n",
    "## Table of Contents\n",
    "1. [Importing Dependencies](#depen)\n",
    "    1. [Fundamental API Classes](#funda)\n",
    "2. [Experiment: a data loader class for synthetic experiments](#exp)\n",
    "    1. [Experiment.load()](#expload)\n",
    "3. [Model: a wrapper for applying SLANTS and graphing diagnostic plots](#mod)\n",
    "    1. [Model Object Instantiation + Available Methods](#modinstant)\n",
    "    2. [Mode.fit()](#modfit)\n",
    "        1. [Demonstration](#demo)\n",
    "        2. [Model Fitting](#fit)\n",
    "        3. [Function Parameters](#funcparams)\n",
    "        4. [Critical Tunable Model Parameters - (Order-Specific)](#critical)\n",
    "        5. [Optional Tunable Model Parameters](#optional)\n",
    "        6. [Note About Streaming Data](#streaming)\n",
    "    3. [Model.plot()](#plot)\n",
    "        1. [Coefficients Plot](#coefplot)\n",
    "        2. [Optimal $\\tau$ Plot](#tauplot)\n",
    "        3. [Optimal $\\lambda$ Plot](#lambdaplot)\n",
    "        4. [Trace of Nonlinear Functions Plot](#traceplot)\n",
    "    4. [Model.model_params()](#modparams)\n",
    "    5. [Model.reset_model()](#modreset)\n",
    "    6. [Model.help()](#modhelp)\n",
    "        1. [Show List of Available Methods in Model Class API](#helpls)\n",
    "        2. [View Documentation of Model Class API](#helpdoc)\n",
    "        3. [View Documentation of the Entire Class](#helpclass)\n",
    "        4. [Interactive Prompt](#helpprompt)\n",
    "4. [Conclusion - To Wrap Things Up](#conc)"
   ]
  },
  {
   "cell_type": "markdown",
   "metadata": {},
   "source": [
    "<a name=\"depen\"></a>\n",
    "## 1. Importing Dependencies \n",
    "\n",
    "The Slants Python API can be directly invoked in a Python script or a REPL interactve environment by using the familiar **'import'** statement as follows: "
   ]
  },
  {
   "cell_type": "code",
   "execution_count": 1,
   "metadata": {},
   "outputs": [
    {
     "name": "stdout",
     "output_type": "stream",
     "text": [
      "\n",
      "....................................................................................................\n",
      ".                                                                                                  .\n",
      ".    _____ ___             __        _____________________________________________________________ .\n",
      ".   / ___//  /____  ____  / /______  |   SEQUENTIAL ADAPTIVE NONLINEAR MODELING OF TIME SERIES   | .\n",
      ".   \\__ \\/  // __ `/ __ \\/ __/ ___/  |   Qiuyi Han, Jie Ding, Edoardo M. Airoldi, Vahid Tarokh   | .\n",
      ".  ___/ /  // /_/ / / / / /_(__  )   | IEEE Transactions on Signal Processing 65 (19), 4994-5005 | .\n",
      ". /____/__/ \\__,_/_/ /_/\\__/____/    |___________________________________________________________| .\n",
      ".                                                                                                  .\n",
      "....................................................................................................\n",
      ".                                                                                                  .\n",
      ".                 Copyright (C) 2019 - SLANTS software authors {Rachit Jas, Jiaqi Liu}             .\n",
      ".                                                                                                  .\n",
      ".                 This program is free software: you can redistribute it and/or modify             .\n",
      ".                 it under the terms of the GNU General Public License as published by             .\n",
      ".                 the Free Software Foundation, either version 3 of the License, or                .\n",
      ".                 (at your option) any later version.                                              .\n",
      ".                                                                                                  .\n",
      ".                 This program is distributed in the hope that it will be useful,                  .\n",
      ".                 but WITHOUT ANY WARRANTY; without even the implied warranty of                   .\n",
      ".                 MERCHANTABILITY or FITNESS FOR A PARTICULAR PURPOSE.  See the                    .\n",
      ".                 GNU General Public License for more details.                                     .\n",
      ".                                                                                                  .\n",
      "....................................................................................................\n",
      "\n",
      "\n"
     ]
    }
   ],
   "source": [
    "import slants as sl"
   ]
  },
  {
   "cell_type": "markdown",
   "metadata": {},
   "source": [
    "Upon successful import of the 'slants' package, a prompt displaying the package name should appear on the screen, as shown above. Before we go ahead, please remember that <ins>the project abides by the GNU GPLv3 license terms and conditions. Kindly do take your time to familiarize with the license agreements governing the project, if you haven't done so.</ins>\n",
    "\n",
    "In order to make your code slightly more readable by escaping the redundant utilization of module aliases (`sl` in this case), you may also use the **'from ... import'** syntax, as follows:    "
   ]
  },
  {
   "cell_type": "code",
   "execution_count": 2,
   "metadata": {},
   "outputs": [],
   "source": [
    "from slants import Model"
   ]
  },
  {
   "cell_type": "markdown",
   "metadata": {},
   "source": [
    "Here, we have imported the **Model** Class API, which provides model fitting and plot graphing features to implement the Slants algorithm on your data. We shall cover the **Model** Class in much more detail in the upcoming section of this guide. Keep in mind that the above **'from ... import'** syntax can be used to import specific classes from the 'slants' package.  "
   ]
  },
  {
   "cell_type": "markdown",
   "metadata": {},
   "source": [
    "<a name=\"funda\"></a>\n",
    "#### 1.A. Fundamental API Classes"
   ]
  },
  {
   "cell_type": "markdown",
   "metadata": {},
   "source": [
    "The Slants Python API primarily provides two important classes:\n",
    "- <ins>**Model:**</ins> A convenience class (that you'll be using the most) which encapsulates the underlying implementation of the SLANTS algorithm and provides you with **model fitting and plot graphing features**. It also handles **data preprocessing** (standardization + transformation) inherently to save the user some time by preparing the data to make it suitable for the algorithm.   \n",
    "- <ins>**Experiment:**</ins> A data loader class which **hosts a few synthetic experiments**. This class is initially useful for new users to get a hang of the SLANTS algorithm by using it on sample epxeriments.  "
   ]
  },
  {
   "cell_type": "markdown",
   "metadata": {},
   "source": [
    "Before getting our hands dirty with the SLANTS algorithm API, let us have a quick look at the Experiment data loader class. Do not hesitate if you make mistakes initially using the API. For some types of errors, whenever applicable, you may be given tips from the 'slants' API on how those mistakes may be rectified. \n",
    "\n",
    "[[back to top]](#top)"
   ]
  },
  {
   "cell_type": "markdown",
   "metadata": {},
   "source": [
    "<a name=\"exp\"></a>\n",
    "## 2. Experiment: a data loader class for synthetic experiments "
   ]
  },
  {
   "cell_type": "markdown",
   "metadata": {},
   "source": [
    "If you are new to using the SLANTS API, we highly suggest you have a look at the **Experiment** Class API. The 'slants' package comes with sample toy experiments comprising datasets already prepared for use with the SLANTS algorithm. The **Experiment** is a utility data-loader class that will quickly set you up with the environment to test the SLANTS algorithm API by loading these sample experiments. "
   ]
  },
  {
   "cell_type": "markdown",
   "metadata": {},
   "source": [
    "The **Experiment** Class API simply provides the load() method for loading synthetic experiments data. The **Experiment.load()** function takes the following arguments: \n",
    "\n",
    "|<center>Parameter Name</center>|<center>Data Type</center>|<center>Description</center>\n",
    "| :---: | :---: | :---:\n",
    "| <center>experiment_num</center> | <center>Scalar</center> | <center>Number ID of the synthetic experiment</center> \n",
    "\n",
    "The **Experiment.load()** function returns the following arguments: \n",
    "\n",
    "|<center> Parameter Name |<center> Data Type             |<center> Constituents, if any    |<center> Description                                                                                                                                                                                          |\n",
    "|----------------|-----------------------|-------------------------|------------------------------------------------------------------------------------------------------------------------------------------------------------------------------------------------------|\n",
    "|<center> synth_exp_data |<center> Dictionary |<center> -                       |<center> If synthetic experiment data found, returns a dictionary containing data (required and/or optional model-fitting function arguments) about synthetic experiments having items:                      |\n",
    "|<center> -              |<center> -                     |<center> data                    |<center> Original data matrix, X                                                                                                                                                                              |\n",
    "|<center> -              |<center> -                     |<center> predict                 |<center> Column to indicate the random variable to be predicted,                                                                                                                                              |\n",
    "|<center> -              |<center> -                     |<center> maximum_lag             |<center> Maximum lag, L, to be considered                                                                                                                                                                     |\n",
    "|<center> -              |<center> -                     |<center> spline_info             |<center> Initial spline configuration containing 'order' and 'num_Bsplines'                                                                                                                                   |\n",
    "|<center> -              |<center> -                     |<center> forget_factor           |<center> comprising ideally decreasing weights in range [0,1] indicating the importance of past values                                                                                        |\n",
    "|<center> -              |<center> -                     |<center> lambda_init             |<center> LASSO penalty initial value                                                                                                                                                            |\n",
    "|<center> -              |<center> -                     |<center> tau2_init               |<center> EM decomposition parameter initial value                                                                                                                                                 |\n",
    "|<center> -              |<center> -                     |<center> sparse_lambda_tolerance |<center> Favors smaller $\\lambda$ within spaTol_c tolerance                                                                                                                            |\n",
    "|<center> -              |<center> -                     |<center> delta_multiplier        |<center> Small step size multiplier, to move along the $\\lambda$ channels                                                                                                                     |\n",
    "|<center> -              |<center> -                     |<center> shrink_step_size        |<center> Adjusts $\\lambda$ before they get out of control, recommended to be equal to 'forget_factor' vector values in case of confusion,                                                     |\n",
    "|<center> -              |<center> -                     |<center> online                  |<center> Boolean to indicate whether online version of SLANTS should be utilized using previous model parameters. Automatically handles situations wherein no past serialized model parameters exist |\n",
    "|<center> -              |<center> -                     |<center> debug_print             |<center> Boolean to indicate internal status of algorithm involving debug print statements                                                                                                      |\n",
    "|<center> -              |<center> -                     |<center> test_size               |<center> Number of observations to average prediction error                                                                                                                                       |\n",
    "|<center> -              |<center> -                     |<center> idle_tau2_tolerance     |<center> Increase $\\tau^2$ if it idles for a while                                                                                                                                         |\n",
    "|<center> -              |<center> -                     |<center> safe_shrink_lambda      |<center> Adjust $\\lambda$ before they get out of control                                                                                                                                    |\n",
    "|<center> -              |<center> -                     |<center> zero_coef_tolerance     |<center> Shrink $\\lambda$ if coefficients are 0 for a long time                                                                                                                            |\n",
    "|<center> -              |<center> -                     |<center> shrink_tau2             |<center> Shrink $\\tau^2$                                                                                                                                                                           |\n",
    "|<center> -              |<center> -                     |<center> random_beta             |<center> Use custom provided beta as initializers for the random coefficients.                                                                                                                  |\n",
    "|<center> -              |<center> -                     |<center> -                       |<center> These above fields will be used in the **Model.fit()** section of this guide                                                                                                                                    |\n",
    "|<center> -              |<center> -                     |<center> -                       |<center>  -                                                                                                                                                                                                    |\n",
    "|<center> -              |<center> Boolean                     |<center> -                       |<center> If synthetic experiment data not found, return False                                                                                                                                                 |"
   ]
  },
  {
   "cell_type": "markdown",
   "metadata": {},
   "source": [
    "Let us import the **Experiment** class API using the **'from ... import'** syntax as discussed earlier. "
   ]
  },
  {
   "cell_type": "code",
   "execution_count": 3,
   "metadata": {},
   "outputs": [],
   "source": [
    "from slants import Experiment"
   ]
  },
  {
   "cell_type": "markdown",
   "metadata": {},
   "source": [
    "<a name=\"expload\"></a>\n",
    "At the time of writing this document, 3 synthetic experiment datasets are available for testing. For the purposes of this guide, let's try loading and using the first synthetic experiment."
   ]
  },
  {
   "cell_type": "code",
   "execution_count": 4,
   "metadata": {},
   "outputs": [],
   "source": [
    "exp = Experiment.load(1)"
   ]
  },
  {
   "cell_type": "markdown",
   "metadata": {},
   "source": [
    "On successfully loading a synthetic experiment dataset, a dictionary consisting of the input data to the SLANTS algorithm is now accessible.  "
   ]
  },
  {
   "cell_type": "code",
   "execution_count": 5,
   "metadata": {},
   "outputs": [
    {
     "data": {
      "text/plain": [
       "{'data': array([[ 0.7885572 ,  2.32398659],\n",
       "        [ 0.08451415, -0.20619209],\n",
       "        [-0.06063754,  1.11021553],\n",
       "        ...,\n",
       "        [ 0.53384354,  0.89924243],\n",
       "        [-0.47007867, -0.6481838 ],\n",
       "        [ 0.81937683,  0.58306828]]),\n",
       " 'delta_multiplier': 2.51188643150958,\n",
       " 'forget_factor': array([1.00000000e+00, 5.00000000e-01, 3.33333333e-01, ...,\n",
       "        5.00500501e-04, 5.00250125e-04, 5.00000000e-04]),\n",
       " 'lambda_init': 0.01,\n",
       " 'maximum_lag': 8,\n",
       " 'predict': 2,\n",
       " 'random_beta': array([-0.04650292,  0.09298121,  0.14577629,  0.01452073,  0.04731581,\n",
       "         0.11134961, -0.07611061, -0.16167278,  0.01744543, -0.04614122,\n",
       "        -0.11248023,  0.11017069, -0.00289208, -0.03145286,  0.06228388,\n",
       "         0.07807323, -0.08806504,  0.00828215, -0.01705071, -0.05903621,\n",
       "        -0.08667934,  0.10924852, -0.09752493, -0.01244223,  0.04761224,\n",
       "         0.07772675,  0.03214824,  0.00153848, -0.17427595, -0.04113581,\n",
       "        -0.02236714,  0.09714903,  0.14967759, -0.02276125,  0.04744872,\n",
       "        -0.07163415,  0.0629705 ,  0.07799296,  0.00432297, -0.01047154,\n",
       "         0.07570566,  0.15558878, -0.03007098, -0.09053746,  0.0398436 ,\n",
       "         0.0232382 , -0.04662886,  0.11619161,  0.15183736,  0.05333248,\n",
       "         0.06453164, -0.06596342, -0.03699803, -0.00410064,  0.12375378,\n",
       "         0.02132302, -0.10137722,  0.01107378,  0.12016225, -0.12897916,\n",
       "         0.01055928,  0.02904329, -0.20747259,  0.00133422,  0.00418154,\n",
       "        -0.00565552, -0.10940801, -0.14498262,  0.06852639, -0.040342  ,\n",
       "        -0.00156537, -0.04011859,  0.15892352,  0.07256223, -0.04338765,\n",
       "         0.00319131, -0.03418705,  0.05506577,  0.07776123, -0.00460401,\n",
       "        -0.05227159, -0.13746589, -0.01399587,  0.05953061, -0.07080562,\n",
       "         0.06360182, -0.1768749 , -0.11478209, -0.0457174 ,  0.11655961,\n",
       "        -0.15291122,  0.1196766 , -0.08187259, -0.09325577,  0.08745879,\n",
       "        -0.11124356, -0.0389221 ,  0.14687334, -0.16791128, -0.07711044,\n",
       "         0.04230024,  0.12007181,  0.06586706,  0.07086772,  0.14453702,\n",
       "         0.05965168, -0.06031184,  0.00197573, -0.10911298,  0.14248899,\n",
       "        -0.00074875,  0.0220689 , -0.03318383, -0.03461466,  0.12644529,\n",
       "        -0.0738906 ,  0.06765472, -0.04811588,  0.08107449,  0.0275086 ,\n",
       "         0.00113513,  0.08544433, -0.11530757,  0.07192719,  0.00733783,\n",
       "         0.04819257, -0.1333342 ,  0.02905027,  0.0642322 ,  0.08957171,\n",
       "        -0.0774289 ,  0.19390912, -0.10417345,  0.02374934, -0.12991082,\n",
       "        -0.11447883,  0.10216501,  0.04274034,  0.01384255, -0.04972225,\n",
       "         0.04421805,  0.04969655, -0.05736752, -0.00119622, -0.09892872,\n",
       "        -0.04623138, -0.07642494, -0.00643731,  0.17142924, -0.00561584,\n",
       "         0.04149806,  0.1844085 ,  0.04962035, -0.14108837, -0.08124142,\n",
       "        -0.03549995, -0.02476252, -0.00677574,  0.08288804,  0.00728766,\n",
       "        -0.04650292,  0.09298121,  0.14577629,  0.01452073,  0.04731581,\n",
       "         0.11134961, -0.07611061, -0.16167278,  0.01744543, -0.04614122,\n",
       "        -0.11248023,  0.11017069, -0.00289208, -0.03145286,  0.06228388,\n",
       "         0.07807323, -0.08806504,  0.00828215, -0.01705071, -0.05903621,\n",
       "        -0.08667934,  0.10924852, -0.09752493, -0.01244223,  0.04761224,\n",
       "         0.07772675,  0.03214824,  0.00153848, -0.17427595, -0.04113581,\n",
       "        -0.02236714,  0.09714903,  0.14967759, -0.02276125,  0.04744872,\n",
       "        -0.07163415,  0.0629705 ,  0.07799296,  0.00432297, -0.01047154,\n",
       "         0.07570566,  0.15558878, -0.03007098, -0.09053746,  0.0398436 ,\n",
       "         0.0232382 , -0.04662886,  0.11619161,  0.15183736,  0.05333248,\n",
       "         0.06453164, -0.06596342, -0.03699803, -0.00410064,  0.12375378,\n",
       "         0.02132302, -0.10137722,  0.01107378,  0.12016225, -0.12897916,\n",
       "         0.01055928,  0.02904329, -0.20747259,  0.00133422,  0.00418154,\n",
       "        -0.00565552, -0.10940801, -0.14498262,  0.06852639, -0.040342  ,\n",
       "        -0.00156537, -0.04011859,  0.15892352,  0.07256223, -0.04338765,\n",
       "         0.00319131, -0.03418705,  0.05506577,  0.07776123, -0.00460401,\n",
       "        -0.05227159, -0.13746589, -0.01399587,  0.05953061, -0.07080562,\n",
       "         0.06360182, -0.1768749 , -0.11478209, -0.0457174 ,  0.11655961,\n",
       "        -0.15291122,  0.1196766 , -0.08187259, -0.09325577,  0.08745879,\n",
       "        -0.11124356, -0.0389221 ,  0.14687334, -0.16791128, -0.07711044,\n",
       "         0.04230024,  0.12007181,  0.06586706,  0.07086772,  0.14453702,\n",
       "         0.05965168, -0.06031184,  0.00197573, -0.10911298,  0.14248899,\n",
       "        -0.00074875,  0.0220689 , -0.03318383, -0.03461466,  0.12644529,\n",
       "        -0.0738906 ,  0.06765472, -0.04811588,  0.08107449,  0.0275086 ,\n",
       "         0.00113513,  0.08544433, -0.11530757,  0.07192719,  0.00733783,\n",
       "         0.04819257, -0.1333342 ,  0.02905027,  0.0642322 ,  0.08957171,\n",
       "        -0.0774289 ,  0.19390912, -0.10417345,  0.02374934, -0.12991082,\n",
       "        -0.11447883,  0.10216501,  0.04274034,  0.01384255, -0.04972225,\n",
       "         0.04421805,  0.04969655, -0.05736752, -0.00119622, -0.09892872,\n",
       "        -0.04623138, -0.07642494, -0.00643731,  0.17142924, -0.00561584,\n",
       "         0.04149806,  0.1844085 ,  0.04962035, -0.14108837, -0.08124142,\n",
       "        -0.03549995, -0.02476252, -0.00677574,  0.08288804,  0.00728766,\n",
       "        -0.04650292,  0.09298121,  0.14577629,  0.01452073,  0.04731581,\n",
       "         0.11134961, -0.07611061, -0.16167278,  0.01744543, -0.04614122,\n",
       "        -0.11248023,  0.11017069, -0.00289208, -0.03145286,  0.06228388,\n",
       "         0.07807323, -0.08806504,  0.00828215, -0.01705071, -0.05903621,\n",
       "        -0.08667934,  0.10924852, -0.09752493, -0.01244223,  0.04761224,\n",
       "         0.07772675,  0.03214824,  0.00153848, -0.17427595, -0.04113581,\n",
       "        -0.02236714,  0.09714903,  0.14967759, -0.02276125,  0.04744872,\n",
       "        -0.07163415,  0.0629705 ,  0.07799296,  0.00432297, -0.01047154,\n",
       "         0.07570566,  0.15558878, -0.03007098, -0.09053746,  0.0398436 ,\n",
       "         0.0232382 , -0.04662886,  0.11619161,  0.15183736,  0.05333248,\n",
       "         0.06453164, -0.06596342, -0.03699803, -0.00410064,  0.12375378,\n",
       "         0.02132302, -0.10137722,  0.01107378,  0.12016225, -0.12897916,\n",
       "         0.01055928,  0.02904329, -0.20747259,  0.00133422,  0.00418154,\n",
       "        -0.00565552, -0.10940801, -0.14498262,  0.06852639, -0.040342  ,\n",
       "        -0.00156537, -0.04011859,  0.15892352,  0.07256223, -0.04338765,\n",
       "         0.00319131, -0.03418705,  0.05506577,  0.07776123, -0.00460401,\n",
       "        -0.05227159, -0.13746589, -0.01399587,  0.05953061, -0.07080562,\n",
       "         0.06360182, -0.1768749 , -0.11478209, -0.0457174 ,  0.11655961,\n",
       "        -0.15291122,  0.1196766 , -0.08187259, -0.09325577,  0.08745879,\n",
       "        -0.11124356, -0.0389221 ,  0.14687334, -0.16791128, -0.07711044,\n",
       "         0.04230024,  0.12007181,  0.06586706,  0.07086772,  0.14453702,\n",
       "         0.05965168, -0.06031184,  0.00197573, -0.10911298,  0.14248899,\n",
       "        -0.00074875,  0.0220689 , -0.03318383, -0.03461466,  0.12644529,\n",
       "        -0.0738906 ,  0.06765472, -0.04811588,  0.08107449,  0.0275086 ,\n",
       "         0.00113513,  0.08544433, -0.11530757,  0.07192719,  0.00733783,\n",
       "         0.04819257, -0.1333342 ,  0.02905027,  0.0642322 ,  0.08957171,\n",
       "        -0.0774289 ,  0.19390912, -0.10417345,  0.02374934, -0.12991082,\n",
       "        -0.11447883,  0.10216501,  0.04274034,  0.01384255, -0.04972225,\n",
       "         0.04421805,  0.04969655, -0.05736752, -0.00119622, -0.09892872,\n",
       "        -0.04623138, -0.07642494, -0.00643731,  0.17142924, -0.00561584,\n",
       "         0.04149806,  0.1844085 ,  0.04962035, -0.14108837, -0.08124142,\n",
       "        -0.03549995, -0.02476252, -0.00677574,  0.08288804,  0.00728766]),\n",
       " 'safe_shrink_lambda': 1.25892541179417,\n",
       " 'shrink_step_size': array([1.00000000e+00, 5.00000000e-01, 3.33333333e-01, ...,\n",
       "        5.00500501e-04, 5.00250125e-04, 5.00000000e-04]),\n",
       " 'sparse_lambda_tolerance': 1.01,\n",
       " 'spline_info_num_Bsplines': 10,\n",
       " 'spline_info_order': 3,\n",
       " 'tau2_init': 0.05,\n",
       " 'test_size': 50}"
      ]
     },
     "execution_count": 5,
     "metadata": {},
     "output_type": "execute_result"
    }
   ],
   "source": [
    "exp"
   ]
  },
  {
   "cell_type": "markdown",
   "metadata": {},
   "source": [
    "This dictionary output, in general, might seem intimidating, but do not worry. Most of the fields are used to tune the SLANTS algorithm during model fitting. The 'data' field corresponds to the data design matrix on which the SLANTS algorithm will be applied. We shall explore the other fields later on in this guide.\n",
    "\n",
    "Any field from the synthetic-experiment dataset dictionary, `exp`, can be simply accessed using the generic Python dictionary syntax:  "
   ]
  },
  {
   "cell_type": "code",
   "execution_count": 6,
   "metadata": {},
   "outputs": [],
   "source": [
    "exp['data'];"
   ]
  },
  {
   "cell_type": "markdown",
   "metadata": {},
   "source": [
    "With time, it is expected that more synthetic experiment datasets will be added to the package. To query the number of experiment datasets available in the package for testing, a **'?'** query may be passed as an argument to the **Experiment.load()** as follows:   "
   ]
  },
  {
   "cell_type": "code",
   "execution_count": 7,
   "metadata": {},
   "outputs": [
    {
     "name": "stdout",
     "output_type": "stream",
     "text": [
      "3 Synthetic experiments available at this time. Tip: Try using a number in the range [1, 3] as an argument to the Experiment.load() method.\n"
     ]
    },
    {
     "data": {
      "text/plain": [
       "True"
      ]
     },
     "execution_count": 7,
     "metadata": {},
     "output_type": "execute_result"
    }
   ],
   "source": [
    "Experiment.load('?')"
   ]
  },
  {
   "cell_type": "markdown",
   "metadata": {},
   "source": [
    "[[back to top]](#top)"
   ]
  },
  {
   "cell_type": "markdown",
   "metadata": {},
   "source": [
    "<a name=\"mod\"></a>\n",
    "## 3. Model: a wrapper for applying SLANTS and graphing diagnostic plots"
   ]
  },
  {
   "cell_type": "markdown",
   "metadata": {},
   "source": [
    "The SLANTS algorithm, as proposed in the authors' work, has been abstracted and neatly packaged into the **Model** Class API with a few added utility functionalities. The **Model** Class API provides the following features associated with the algorithm:\n",
    "\n",
    "1. Online model fitting capabilities on your data\n",
    "2. Diagnostic plot graphing to view optimal model parameters\n",
    "\n",
    "The **Model Class** API takes care of the following underlying characteristics of the SLANTS algorithm for you:\n",
    "\n",
    "1. Creating B-Splines using numerical approximation methods\n",
    "2. Saving model parameters in a serialized format for persistence and online adaptivity \n",
    "3. Low-level abstraction from the EM Group LASSO problem formulation and implementation\n",
    "\n",
    "It should be noted that the data preprocesssing steps (i.e., data standardization + transformation) to prepare the design matrix for the algorithm (as mentioned on page 4995 in the authors' paper, source: _IEEE Transactions On Signal Processing journal_) is inherently handled by the Model Class API. This saves you a lot of time and trouble in preparing the dataset in the correct format so as to be accepted as input by the raw SLANTS algorithm implementation.   \n",
    "\n",
    "Finally, let's get hands-on with the SLANTS API. \n",
    "\n",
    "[[back to top]](#top)"
   ]
  },
  {
   "cell_type": "markdown",
   "metadata": {},
   "source": [
    "<a name=\"modinstant\"></a>\n",
    "### 3.A. Model Object Instantiation + Available Methods"
   ]
  },
  {
   "cell_type": "markdown",
   "metadata": {},
   "source": [
    "An object created from the **Model** Class is an independent instance that can be used to fit the model on the data. This object can be instantiated as follows: "
   ]
  },
  {
   "cell_type": "code",
   "execution_count": 8,
   "metadata": {},
   "outputs": [],
   "source": [
    "# After importing Model class, as in the 'Importing Dependencies' section\n",
    "model = Model()"
   ]
  },
  {
   "cell_type": "markdown",
   "metadata": {},
   "source": [
    "The available methods present in the **Model** object can be viewed by setting the **'ls'** argument (motivated by the UNIX 'ls' shell command) in the **Model.help()** method of the Model object:"
   ]
  },
  {
   "cell_type": "code",
   "execution_count": 9,
   "metadata": {},
   "outputs": [
    {
     "name": "stdout",
     "output_type": "stream",
     "text": [
      "Here are the list of available methods: \n",
      "\t fit | help | model_params | plot | reset_model\n"
     ]
    },
    {
     "data": {
      "text/plain": [
       "True"
      ]
     },
     "execution_count": 9,
     "metadata": {},
     "output_type": "execute_result"
    }
   ],
   "source": [
    "model.help(ls=True)"
   ]
  },
  {
   "cell_type": "markdown",
   "metadata": {},
   "source": [
    "It's time for us to explore the above **Model** Class API methods one at a time.\n",
    "\n",
    "[[back to top]](#top)"
   ]
  },
  {
   "cell_type": "markdown",
   "metadata": {},
   "source": [
    "<a name=\"modfit\"></a>\n",
    "### 3.B. Model.fit()"
   ]
  },
  {
   "cell_type": "markdown",
   "metadata": {},
   "source": [
    "The **Model.fit()** method is used for applying the SLANTS algorithm on the data design matrix. This function abstracts the data preprocessing steps we mentioned earlier. To understand the use case as well as get a hang of the **Model.fit()** method, we first provide a small demonstration below. The specifics of the **Model.fit()** method follow this demonstration. \n",
    "\n",
    "<a name=\"demo\"></a>\n",
    "#### 3.B.a. Demonstration\n",
    "\n",
    "For demonstration purposes, consider the **Synthetic Experiment - (1)** dataset `exp` that we had loaded earlier using the **Experiment** Class API. If you were curious about how the design matrix was created: Each column of the `data` matrix field was generated using the following data generating processes:\n",
    "\n",
    "$X_{1,t} = \\epsilon_{1,t}$\n",
    "\n",
    "$X_{2,t} = 0.5 X^2_{1,t-1} - 0.8 X_{1,t-7} + \\epsilon_{2,t}$  ; where $\\epsilon_{1,t}$, $\\epsilon_{2,t}$ are i.i.d Standard Gaussian noises.  \n",
    "\n",
    "Let us have a quick glance at the experiment dataset dictionary:"
   ]
  },
  {
   "cell_type": "code",
   "execution_count": 10,
   "metadata": {},
   "outputs": [
    {
     "data": {
      "text/plain": [
       "{'data': array([[ 0.7885572 ,  2.32398659],\n",
       "        [ 0.08451415, -0.20619209],\n",
       "        [-0.06063754,  1.11021553],\n",
       "        ...,\n",
       "        [ 0.53384354,  0.89924243],\n",
       "        [-0.47007867, -0.6481838 ],\n",
       "        [ 0.81937683,  0.58306828]]),\n",
       " 'delta_multiplier': 2.51188643150958,\n",
       " 'forget_factor': array([1.00000000e+00, 5.00000000e-01, 3.33333333e-01, ...,\n",
       "        5.00500501e-04, 5.00250125e-04, 5.00000000e-04]),\n",
       " 'lambda_init': 0.01,\n",
       " 'maximum_lag': 8,\n",
       " 'predict': 2,\n",
       " 'random_beta': array([-0.04650292,  0.09298121,  0.14577629,  0.01452073,  0.04731581,\n",
       "         0.11134961, -0.07611061, -0.16167278,  0.01744543, -0.04614122,\n",
       "        -0.11248023,  0.11017069, -0.00289208, -0.03145286,  0.06228388,\n",
       "         0.07807323, -0.08806504,  0.00828215, -0.01705071, -0.05903621,\n",
       "        -0.08667934,  0.10924852, -0.09752493, -0.01244223,  0.04761224,\n",
       "         0.07772675,  0.03214824,  0.00153848, -0.17427595, -0.04113581,\n",
       "        -0.02236714,  0.09714903,  0.14967759, -0.02276125,  0.04744872,\n",
       "        -0.07163415,  0.0629705 ,  0.07799296,  0.00432297, -0.01047154,\n",
       "         0.07570566,  0.15558878, -0.03007098, -0.09053746,  0.0398436 ,\n",
       "         0.0232382 , -0.04662886,  0.11619161,  0.15183736,  0.05333248,\n",
       "         0.06453164, -0.06596342, -0.03699803, -0.00410064,  0.12375378,\n",
       "         0.02132302, -0.10137722,  0.01107378,  0.12016225, -0.12897916,\n",
       "         0.01055928,  0.02904329, -0.20747259,  0.00133422,  0.00418154,\n",
       "        -0.00565552, -0.10940801, -0.14498262,  0.06852639, -0.040342  ,\n",
       "        -0.00156537, -0.04011859,  0.15892352,  0.07256223, -0.04338765,\n",
       "         0.00319131, -0.03418705,  0.05506577,  0.07776123, -0.00460401,\n",
       "        -0.05227159, -0.13746589, -0.01399587,  0.05953061, -0.07080562,\n",
       "         0.06360182, -0.1768749 , -0.11478209, -0.0457174 ,  0.11655961,\n",
       "        -0.15291122,  0.1196766 , -0.08187259, -0.09325577,  0.08745879,\n",
       "        -0.11124356, -0.0389221 ,  0.14687334, -0.16791128, -0.07711044,\n",
       "         0.04230024,  0.12007181,  0.06586706,  0.07086772,  0.14453702,\n",
       "         0.05965168, -0.06031184,  0.00197573, -0.10911298,  0.14248899,\n",
       "        -0.00074875,  0.0220689 , -0.03318383, -0.03461466,  0.12644529,\n",
       "        -0.0738906 ,  0.06765472, -0.04811588,  0.08107449,  0.0275086 ,\n",
       "         0.00113513,  0.08544433, -0.11530757,  0.07192719,  0.00733783,\n",
       "         0.04819257, -0.1333342 ,  0.02905027,  0.0642322 ,  0.08957171,\n",
       "        -0.0774289 ,  0.19390912, -0.10417345,  0.02374934, -0.12991082,\n",
       "        -0.11447883,  0.10216501,  0.04274034,  0.01384255, -0.04972225,\n",
       "         0.04421805,  0.04969655, -0.05736752, -0.00119622, -0.09892872,\n",
       "        -0.04623138, -0.07642494, -0.00643731,  0.17142924, -0.00561584,\n",
       "         0.04149806,  0.1844085 ,  0.04962035, -0.14108837, -0.08124142,\n",
       "        -0.03549995, -0.02476252, -0.00677574,  0.08288804,  0.00728766,\n",
       "        -0.04650292,  0.09298121,  0.14577629,  0.01452073,  0.04731581,\n",
       "         0.11134961, -0.07611061, -0.16167278,  0.01744543, -0.04614122,\n",
       "        -0.11248023,  0.11017069, -0.00289208, -0.03145286,  0.06228388,\n",
       "         0.07807323, -0.08806504,  0.00828215, -0.01705071, -0.05903621,\n",
       "        -0.08667934,  0.10924852, -0.09752493, -0.01244223,  0.04761224,\n",
       "         0.07772675,  0.03214824,  0.00153848, -0.17427595, -0.04113581,\n",
       "        -0.02236714,  0.09714903,  0.14967759, -0.02276125,  0.04744872,\n",
       "        -0.07163415,  0.0629705 ,  0.07799296,  0.00432297, -0.01047154,\n",
       "         0.07570566,  0.15558878, -0.03007098, -0.09053746,  0.0398436 ,\n",
       "         0.0232382 , -0.04662886,  0.11619161,  0.15183736,  0.05333248,\n",
       "         0.06453164, -0.06596342, -0.03699803, -0.00410064,  0.12375378,\n",
       "         0.02132302, -0.10137722,  0.01107378,  0.12016225, -0.12897916,\n",
       "         0.01055928,  0.02904329, -0.20747259,  0.00133422,  0.00418154,\n",
       "        -0.00565552, -0.10940801, -0.14498262,  0.06852639, -0.040342  ,\n",
       "        -0.00156537, -0.04011859,  0.15892352,  0.07256223, -0.04338765,\n",
       "         0.00319131, -0.03418705,  0.05506577,  0.07776123, -0.00460401,\n",
       "        -0.05227159, -0.13746589, -0.01399587,  0.05953061, -0.07080562,\n",
       "         0.06360182, -0.1768749 , -0.11478209, -0.0457174 ,  0.11655961,\n",
       "        -0.15291122,  0.1196766 , -0.08187259, -0.09325577,  0.08745879,\n",
       "        -0.11124356, -0.0389221 ,  0.14687334, -0.16791128, -0.07711044,\n",
       "         0.04230024,  0.12007181,  0.06586706,  0.07086772,  0.14453702,\n",
       "         0.05965168, -0.06031184,  0.00197573, -0.10911298,  0.14248899,\n",
       "        -0.00074875,  0.0220689 , -0.03318383, -0.03461466,  0.12644529,\n",
       "        -0.0738906 ,  0.06765472, -0.04811588,  0.08107449,  0.0275086 ,\n",
       "         0.00113513,  0.08544433, -0.11530757,  0.07192719,  0.00733783,\n",
       "         0.04819257, -0.1333342 ,  0.02905027,  0.0642322 ,  0.08957171,\n",
       "        -0.0774289 ,  0.19390912, -0.10417345,  0.02374934, -0.12991082,\n",
       "        -0.11447883,  0.10216501,  0.04274034,  0.01384255, -0.04972225,\n",
       "         0.04421805,  0.04969655, -0.05736752, -0.00119622, -0.09892872,\n",
       "        -0.04623138, -0.07642494, -0.00643731,  0.17142924, -0.00561584,\n",
       "         0.04149806,  0.1844085 ,  0.04962035, -0.14108837, -0.08124142,\n",
       "        -0.03549995, -0.02476252, -0.00677574,  0.08288804,  0.00728766,\n",
       "        -0.04650292,  0.09298121,  0.14577629,  0.01452073,  0.04731581,\n",
       "         0.11134961, -0.07611061, -0.16167278,  0.01744543, -0.04614122,\n",
       "        -0.11248023,  0.11017069, -0.00289208, -0.03145286,  0.06228388,\n",
       "         0.07807323, -0.08806504,  0.00828215, -0.01705071, -0.05903621,\n",
       "        -0.08667934,  0.10924852, -0.09752493, -0.01244223,  0.04761224,\n",
       "         0.07772675,  0.03214824,  0.00153848, -0.17427595, -0.04113581,\n",
       "        -0.02236714,  0.09714903,  0.14967759, -0.02276125,  0.04744872,\n",
       "        -0.07163415,  0.0629705 ,  0.07799296,  0.00432297, -0.01047154,\n",
       "         0.07570566,  0.15558878, -0.03007098, -0.09053746,  0.0398436 ,\n",
       "         0.0232382 , -0.04662886,  0.11619161,  0.15183736,  0.05333248,\n",
       "         0.06453164, -0.06596342, -0.03699803, -0.00410064,  0.12375378,\n",
       "         0.02132302, -0.10137722,  0.01107378,  0.12016225, -0.12897916,\n",
       "         0.01055928,  0.02904329, -0.20747259,  0.00133422,  0.00418154,\n",
       "        -0.00565552, -0.10940801, -0.14498262,  0.06852639, -0.040342  ,\n",
       "        -0.00156537, -0.04011859,  0.15892352,  0.07256223, -0.04338765,\n",
       "         0.00319131, -0.03418705,  0.05506577,  0.07776123, -0.00460401,\n",
       "        -0.05227159, -0.13746589, -0.01399587,  0.05953061, -0.07080562,\n",
       "         0.06360182, -0.1768749 , -0.11478209, -0.0457174 ,  0.11655961,\n",
       "        -0.15291122,  0.1196766 , -0.08187259, -0.09325577,  0.08745879,\n",
       "        -0.11124356, -0.0389221 ,  0.14687334, -0.16791128, -0.07711044,\n",
       "         0.04230024,  0.12007181,  0.06586706,  0.07086772,  0.14453702,\n",
       "         0.05965168, -0.06031184,  0.00197573, -0.10911298,  0.14248899,\n",
       "        -0.00074875,  0.0220689 , -0.03318383, -0.03461466,  0.12644529,\n",
       "        -0.0738906 ,  0.06765472, -0.04811588,  0.08107449,  0.0275086 ,\n",
       "         0.00113513,  0.08544433, -0.11530757,  0.07192719,  0.00733783,\n",
       "         0.04819257, -0.1333342 ,  0.02905027,  0.0642322 ,  0.08957171,\n",
       "        -0.0774289 ,  0.19390912, -0.10417345,  0.02374934, -0.12991082,\n",
       "        -0.11447883,  0.10216501,  0.04274034,  0.01384255, -0.04972225,\n",
       "         0.04421805,  0.04969655, -0.05736752, -0.00119622, -0.09892872,\n",
       "        -0.04623138, -0.07642494, -0.00643731,  0.17142924, -0.00561584,\n",
       "         0.04149806,  0.1844085 ,  0.04962035, -0.14108837, -0.08124142,\n",
       "        -0.03549995, -0.02476252, -0.00677574,  0.08288804,  0.00728766]),\n",
       " 'safe_shrink_lambda': 1.25892541179417,\n",
       " 'shrink_step_size': array([1.00000000e+00, 5.00000000e-01, 3.33333333e-01, ...,\n",
       "        5.00500501e-04, 5.00250125e-04, 5.00000000e-04]),\n",
       " 'sparse_lambda_tolerance': 1.01,\n",
       " 'spline_info_num_Bsplines': 10,\n",
       " 'spline_info_order': 3,\n",
       " 'tau2_init': 0.05,\n",
       " 'test_size': 50}"
      ]
     },
     "execution_count": 10,
     "metadata": {},
     "output_type": "execute_result"
    }
   ],
   "source": [
    "exp"
   ]
  },
  {
   "cell_type": "markdown",
   "metadata": {},
   "source": [
    "**<center>The next two code blocks essentially contain code to provide convenience to the reader in the future while observing the Model.fit() function call.</center>** \n",
    "    \n",
    "**<center>Please feel free to skip these two code blocks.</center>** "
   ]
  },
  {
   "cell_type": "markdown",
   "metadata": {},
   "source": [
    "All of the fields except the `data` field in the experiment dataset dictionary above correspond to the **tunable model parameters (both, critical and optional)**, which tells the SLANTS algorithm on how to proceed with the model fitting process. Going forward, we save all of these fields in individual variables for slightly more readability. If you are not familiar with the syntax below, fear not. The implementation of this code block is not important.  "
   ]
  },
  {
   "cell_type": "code",
   "execution_count": 11,
   "metadata": {},
   "outputs": [],
   "source": [
    "# Storing the Experiment dataset fields in their respective variables\n",
    "def retrieve_tunable_model_params(exp):\n",
    "    variables = ['data', 'predict', 'maximum_lag', 'spline_info_order', 'spline_info_num_Bsplines', 'forget_factor', \n",
    "                 'lambda_init', 'tau2_init', 'sparse_lambda_tolerance','delta_multiplier', 'shrink_step_size', \n",
    "                 'test_size', 'safe_shrink_lambda', 'random_beta']\n",
    "    return [exp[var] for var in variables]\n",
    "\n",
    "# Calling the function\n",
    "data, predict, maximum_lag, spline_info_order, spline_info_num_Bsplines, forget_factor, lambda_init, tau2_init, sparse_lambda_tolerance, delta_multiplier, shrink_step_size, test_size, safe_shrink_lambda, random_beta = retrieve_tunable_model_params(exp)"
   ]
  },
  {
   "cell_type": "markdown",
   "metadata": {},
   "source": [
    "Let us fit a slants model to this **Synthetic Experiment - (1)** dataset. We are concerned with random variable, $X_{2,t}$ here. Before fitting the model on the data directly, we consolidate all of the **optional tunable parameters** into a dictionary for convenience. Since we have the option to provide so many tunable parameters to the **Model** object, it would look ugly to pass all of then at once to the function call. Similarly, the **spline configuration** desired for modeling should also be consolidated for convenience, as shown below:   "
   ]
  },
  {
   "cell_type": "code",
   "execution_count": 12,
   "metadata": {},
   "outputs": [],
   "source": [
    "# Consolidating parameters from the experiment dataset \n",
    "def consolidate_params(test_size, safe_shrink_lambda, random_beta, spline_info_order, spline_info_num_Bsplines):\n",
    "    optional_params = {\n",
    "        'test_size': test_size, \n",
    "        'safe_shrink_lambda': safe_shrink_lambda, \n",
    "        'random_beta': random_beta\n",
    "    }\n",
    "\n",
    "    spline_info = {\n",
    "        'order': spline_info_order, \n",
    "        'num_Bsplines': spline_info_num_Bsplines\n",
    "    }\n",
    "\n",
    "    return optional_params, spline_info\n",
    "\n",
    "# Calling the function\n",
    "optional_params, spline_info = consolidate_params(test_size, safe_shrink_lambda, random_beta, spline_info_order, spline_info_num_Bsplines)"
   ]
  },
  {
   "cell_type": "markdown",
   "metadata": {},
   "source": [
    "[[back to top]](#top)"
   ]
  },
  {
   "cell_type": "markdown",
   "metadata": {},
   "source": [
    "<a name=\"fit\"></a>\n",
    "#### 3.B.b. Model Fitting"
   ]
  },
  {
   "cell_type": "markdown",
   "metadata": {},
   "source": [
    "Finally, the **Model.fit()** method can be applied to trigger the SLANTS algorithm on the design data matrix, `exp['data']`. The model fitting process is tweaked accordingly as per the tunable parameters we specified in the function call:"
   ]
  },
  {
   "cell_type": "code",
   "execution_count": 13,
   "metadata": {},
   "outputs": [
    {
     "name": "stdout",
     "output_type": "stream",
     "text": [
      "==========< Data Preparation Finished >=============\n",
      "Iteration: 100\n",
      "Iteration: 200\n",
      "Iteration: 300\n",
      "Iteration: 400\n",
      "Iteration: 500\n",
      "Iteration: 600\n",
      "Iteration: 700\n",
      "Iteration: 800\n",
      "Iteration: 900\n",
      "Iteration: 1000\n",
      "Iteration: 1100\n",
      "Iteration: 1200\n",
      "Iteration: 1300\n",
      "Iteration: 1400\n",
      "Iteration: 1500\n",
      "Iteration: 1600\n",
      "Iteration: 1700\n",
      "Iteration: 1800\n",
      "Iteration: 1900\n",
      "==========< Sequential Nonlinear Model finished >=============\n"
     ]
    }
   ],
   "source": [
    "# Using the Model() object we created earlier\n",
    "model.fit(data, predict, maximum_lag, spline_info, forget_factor, \n",
    "          lambda_init, tau2_init, sparse_lambda_tolerance,\n",
    "          delta_multiplier, shrink_step_size, **optional_params) # unpacking optional args; used for readability"
   ]
  },
  {
   "cell_type": "markdown",
   "metadata": {},
   "source": [
    "As we can see from the above, after about 2000 iterations, the SLANTS model has been successfully fitted to the synthetic experiment dataset.\n",
    "\n",
    "[[back to top]](#top)"
   ]
  },
  {
   "cell_type": "markdown",
   "metadata": {},
   "source": [
    "<a name=\"funcparams\"></a>\n",
    "#### 3.B.c. Function Parameters"
   ]
  },
  {
   "cell_type": "markdown",
   "metadata": {},
   "source": [
    "Several tuning parameters, including those mentioned in the authors' paper, are made available to tweak the performance of the SLANTS algorithm, as evident from our demonstration above. You can find the table below, listing the tunable function parameters to **Model.fit()** method. In case of confusion in the utilization of these parameters, please feel free to refer to the authors' paper, especially the section '_The Choice of Tuning Parameters: From a Prequential Perspective_' on page 4997 of the paper{source: _IEEE Transactions On Signal Processing journal_}.\n",
    "\n",
    "[[back to top]](#top)"
   ]
  },
  {
   "cell_type": "markdown",
   "metadata": {},
   "source": [
    "<a name=\"critical\"></a>\n",
    "#### 3.B.d. Critical Tunable Model Parameters (Order-specific)\n",
    "\n",
    "These are required arguments to the **Model.fit()** method without which the SLANTS algorithm cannot function. The order (as listed in the table below) in which these arguments are specified in the function call matter for the execution of the **Model.fit()** function. \n",
    "\n",
    "|<center>Parameter Name</center>|<center>Data Type</center>|<center>Description</center>\n",
    "| :---: | :---: | :---:\n",
    "| <center>data</center> | <center>Numpy array</center> | <center>Original data matrix, X</center> \n",
    "| <center>predict | <center>Scalar</center> | <center>Column number (starting from 1 onwards) to indicate the random variable to be predicted</center>\n",
    "| <center>maximum_lag</center> | <center>Scalar</center> | <center>Maximum lag, L, to be considered</center>\n",
    "| <center>spline_info</center> | <center>Dictionary</center> | <center>Initial spline configuration containing 'order' and 'num_Bsplines'</center>\n",
    "| <center>forget_factor</center> | <center>Numpy vector</center> | Comprises ideally decreasing weights in range [0,1] indicating the importance of past values (generally, less significance for older values)\n",
    "| <center>lambda_init | <center>Scalar | <center>LASSO penalty, $\\lambda$, initial value\n",
    "| <center>tau2_init | <center>Scalar | <center>EM decomposition parameter, $\\tau^2$, initial value\n",
    "| <center>sparse_lambda_tolerance | <center>Scalar | <center>Favors smaller $\\lambda$ within spaTol_c tolerance\n",
    "| <center>delta_multiplier | <center>Scalar | <center>Small step size multiplier, to move along the $\\lambda$ channels\n",
    "| <center>shrink_step_size | <center>Numpy vector | <center>Adjusts $\\lambda$ before they get out of control, recommended to be equal to 'forget_factor' vector values in case of confusion \n",
    "    \n",
    "[[back to top]](#top)"
   ]
  },
  {
   "cell_type": "markdown",
   "metadata": {},
   "source": [
    "<a name=\"optional\"></a>\n",
    "#### 3.B.e. Optional Tunable Model Parameters\n",
    "\n",
    "These are optional arguments to the **Model.fit()** method. Default values are used in case you do not explicitly specify them in the function call. The order (as listed in the table below) in which these arguments are specified in the function call should not matter for the execution of the **Model.fit()** function. It is highly recommended to encapsulate your custom-defined optional arguments in a dictionary as we did above for the demonstration, as this would save some space and make the code more readable. \n",
    "\n",
    "|<center>Parameter Name</center>|<center>Default Value</center>|<center>Description</center>\n",
    "| :---: | :---: | :---:\n",
    "| <center>online | <center>True | <center>Boolean to indicate whether online version of SLANTS should be utilized using previous model parameters. Automatically handles situations wherein no past serialized model parameters exist \t\t\n",
    "| <center>debug_print | <center>False | <center>Boolean to indicate internal status of algorithm involving debug print statements\n",
    "| <center>test_size | <center>50 | <center>Number of observations to average prediction error\n",
    "| <center>idle_tau2_tolerance | <center>50 | <center>Increase $\\tau^2$ if it idles for a while\n",
    "| <center>safe_shrink_lambda | <center>10<sup>(0.4)</sup> | <center>Adjust $\\lambda$ before they get out of control\n",
    "| <center>zero_coef_tolerance | <center>3 | <center>Shrink $\\lambda$ if coefficients are 0 for a long time\n",
    "| <center>shrink_tau2 | <center>1.1 | <center>Shrink $\\tau^2$     \n",
    "| <center>random_beta | <center>False | <center>Use custom provided $\\beta$ as initializers for the randomly generated coefficients \n",
    "    \n",
    "[[back to top]](#top)"
   ]
  },
  {
   "cell_type": "markdown",
   "metadata": {},
   "source": [
    "<a name=\"streaming\"></a>\n",
    "##### 3.B.f. Note about Streaming Data\n",
    "\n",
    "All model parameters of the SLANTS algorithm are saved in a serialized format, Python Pickle format, which is named as:\n",
    "\n",
    "`model-params_predict_random-variable_i.pickle` file {where `i` corresponds to the random variable provided in the `predict` argument of the **Model.fit()** method} in the current working directory. \n",
    "\n",
    "On a future note, as **incoming streaming data** is encountered, this serialized file will be used to retrieve the model parameters used on the previous versions of the dataset to build the model. Make sure that you backup these serialized model files periodically to save the progress of the model. Remember that due to the online adaptivity feature of the SLANTS algorithm, these model files are overwritten (i.e., updated) if found in the current working directory, when calling the **Model.fit()** method.\n",
    "\n",
    "By defintion of the SLANTS algorithm, the model is set to **online** by default. This ensures that the model parameters adopt the previously learned model parameters from the serialized file format, adapt and update as new streaming data is received. If you would like to disable this behaviour, kindly set the 'online' optional parameter to False. \n",
    "\n",
    "[[back to top]](#top)"
   ]
  },
  {
   "cell_type": "markdown",
   "metadata": {},
   "source": [
    "<a name=\"plot\"></a>\n",
    "### 3.C. Model.plot()"
   ]
  },
  {
   "cell_type": "markdown",
   "metadata": {},
   "source": [
    "The **Model.plot()** function provides 4 diagnostic plots to check whether the SLANTS algorithm is working as you intended it to. These plots include:\n",
    "\n",
    "- Coefficients plot\n",
    "- Optimal $\\tau$ Plot\n",
    "- Optimal $\\lambda$ plot\n",
    "- Trace of nonlinear functions plot\n",
    "\n",
    "The **Model.plot()** takes the following arguments in its function call:\n",
    "\n",
    "|<center> Parameter Name |<center> Data Type |<center> Valid Values |<center> Description                                                                                                      |\n",
    "|----------------|-----------|----------------------|------------------------------------------------------------------------------------------------------------------|\n",
    "|<center> kind           |<center> String    |<center> -                    |<center> Type of requested plot to be graphed using the model parameters. At the moment, 4 types of plot can be created:  |\n",
    "|<center> -              |<center> -         |<center> lambda               |<center> Optimal Lambda Plot                                                                                              |\n",
    "|<center> -              |<center> -         |<center> tau                  |<center> Optimal Tau Plot                                                                                                 |\n",
    "|<center> -              |<center> -         |<center> coef                 |<center> Coefficient-Time Plot                                                                                            |\n",
    "|<center> -              |<center> -         |<center> trace                |<center> Trace of the nonlinear functions                                                                                 |\n",
    "\n",
    "The **Model.plot()** returns the following arguments:\n",
    "\n",
    "|<center>Data Type</center>|<center>Description</center>\n",
    "| :---: | :---:\n",
    "| <center>Boolean</center> | <center>If any error is encountered, returns False. If no error is encountered, returns True</center>\n",
    "\n",
    "This function becomes operable as soon as the SLANTS algorithm is applied on the dataset under consideration.\n",
    "\n",
    "So far we have fitted the SLANTS algorithm on the **Synthetic Experiment - (1)** dataset using the **Model.fit()** method. We can view the corresponding diagnostic plots, as shown below:\n",
    "\n",
    "[[back to top]](#top)"
   ]
  },
  {
   "cell_type": "markdown",
   "metadata": {},
   "source": [
    "<a name=\"coefplot\"></a>\n",
    "#### 3.C.a. Coefficients Plot"
   ]
  },
  {
   "cell_type": "markdown",
   "metadata": {},
   "source": [
    "By default, this plot is graphed. This shows the trend of the beta coefficients with time."
   ]
  },
  {
   "cell_type": "code",
   "execution_count": 14,
   "metadata": {},
   "outputs": [
    {
     "data": {
      "text/plain": [
       "True"
      ]
     },
     "execution_count": 14,
     "metadata": {},
     "output_type": "execute_result"
    },
    {
     "data": {
      "image/png": "[encoded data removed]",
      "text/plain": [
       "<Figure size 432x288 with 1 Axes>"
      ]
     },
     "metadata": {},
     "output_type": "display_data"
    }
   ],
   "source": [
    "model.plot('coef') # model.plot() without arguments also gives the Coefficients Plot "
   ]
  },
  {
   "cell_type": "markdown",
   "metadata": {},
   "source": [
    "[[back to top]](#top)"
   ]
  },
  {
   "cell_type": "markdown",
   "metadata": {},
   "source": [
    "<a name=\"tauplot\"></a>\n",
    "#### 3.C.b. Optimal  τ  Plot\n",
    "This plot shows the trend of the EM decomposition parameter with time. "
   ]
  },
  {
   "cell_type": "code",
   "execution_count": 15,
   "metadata": {},
   "outputs": [
    {
     "data": {
      "text/plain": [
       "True"
      ]
     },
     "execution_count": 15,
     "metadata": {},
     "output_type": "execute_result"
    },
    {
     "data": {
      "image/png": "[encoded data removed]",
      "text/plain": [
       "<Figure size 432x288 with 1 Axes>"
      ]
     },
     "metadata": {},
     "output_type": "display_data"
    }
   ],
   "source": [
    "model.plot('tau')"
   ]
  },
  {
   "cell_type": "markdown",
   "metadata": {},
   "source": [
    "[[back to top]](#top)"
   ]
  },
  {
   "cell_type": "markdown",
   "metadata": {},
   "source": [
    "<a name=\"lambdaplot\"></a>\n",
    "#### 3.C.c. Optimal λ Plot\n",
    "\n",
    "This plot shows the trend of the optimal LASSO penalty term with time. "
   ]
  },
  {
   "cell_type": "code",
   "execution_count": 16,
   "metadata": {},
   "outputs": [
    {
     "data": {
      "text/plain": [
       "True"
      ]
     },
     "execution_count": 16,
     "metadata": {},
     "output_type": "execute_result"
    },
    {
     "data": {
      "image/png": "[encoded data removed]",
      "text/plain": [
       "<Figure size 432x288 with 1 Axes>"
      ]
     },
     "metadata": {},
     "output_type": "display_data"
    }
   ],
   "source": [
    "model.plot('lambda')"
   ]
  },
  {
   "cell_type": "markdown",
   "metadata": {},
   "source": [
    "[[back to top]](#top)"
   ]
  },
  {
   "cell_type": "markdown",
   "metadata": {},
   "source": [
    "<a name=\"traceplot\"></a>\n",
    "#### 3.C.d. Trace of Nonlinear Functions Plot \n",
    "\n",
    "As the name suggests, this plot shows the trace of the nonlinear functions."
   ]
  },
  {
   "cell_type": "code",
   "execution_count": 17,
   "metadata": {},
   "outputs": [
    {
     "data": {
      "text/plain": [
       "True"
      ]
     },
     "execution_count": 17,
     "metadata": {},
     "output_type": "execute_result"
    },
    {
     "data": {
      "image/png": "[encoded data removed]",
      "text/plain": [
       "<Figure size 432x288 with 1 Axes>"
      ]
     },
     "metadata": {},
     "output_type": "display_data"
    }
   ],
   "source": [
    "model.plot('trace')"
   ]
  },
  {
   "cell_type": "markdown",
   "metadata": {},
   "source": [
    "[[back to top]](#top)"
   ]
  },
  {
   "cell_type": "markdown",
   "metadata": {},
   "source": [
    "<a name=\"modparams\"></a>\n",
    "### 3.D. Model.model_params()"
   ]
  },
  {
   "cell_type": "markdown",
   "metadata": {},
   "source": [
    "The **Model.model_params()** method returns the model parameters, such as $\\lambda$ LASSO pealty term and the $\\beta$ coefficients, learned during the SLANTS model fitting phase, in the form of a dictionary. This can be useful if you need to numerically verify the learned model parameters of your model.\n",
    "\n",
    "The **Model.model_params()** takes the following arguments in its function call:\n",
    "\n",
    "|<center>Parameter Name</center>|<center>Data Type</center>|<center>Description</center>\n",
    "| :---: | :---: | :---:\n",
    "| <center>filename</center> | <center>String</center> | <center>Name of the serialized model file. If a file name is provided, the model parameters are temporarily loaded and returned. 'None' by default.</center>\n",
    "\n",
    "The **Model.model_params()** returns the following arguments:\n",
    "\n",
    "|<center> Parameter Name |<center> Data Type             |<center> Constituents, if any                   |<center> Description                                                                                  |\n",
    "|----------------|-----------------------|----------------------------------------|----------------------------------------------------------------------------------------------|\n",
    "|<center> model_params   |<center> Dictionary |<center> -                                      |<center> If model parameters have been found/loaded:                                                  |\n",
    "|<center> -              |<center> -                     |<center> prediction_err                         |<center> Historical predicted error; 1st column indicates 1st channel, etc.                           |\n",
    "|<center> -              |<center> -                     |<center> prediction_val                         |<center> Historical predicted values; 1st column indicates 1st channel, etc.                          |\n",
    "|<center> -              |<center> -                     |<center> lambda_history                         |<center> Historical lambda channels; 1st channel is the smallest one, 3rd channel is the largest one  |\n",
    "|<center> -              |<center> -                     |<center> lambda_opt                             |<center> Optimized lambda; 2nd channel in lambda_history                                              |\n",
    "|<center> -              |<center> -                     |<center> tau2_opt                               |<center> tau2_opt = Optimized Tau^2                                                                   |\n",
    "|<center> -              |<center> -                     |<center> coef_opt                               |<center> Best coefficient, the last row and second channel related in coef_history                    |\n",
    "|<center> -              |<center> -                     |<center> coef_history                           |<center> All stored coefficient                                                                       |\n",
    "|<center> -              |<center> -                     |<center> spline_config                          |<center> Spline configuration                                                                         |\n",
    "|<center> -              |<center> -                     |<center> sufficient_stats_A, sufficient_stats_B |<center> Sufficient statistics                                                                        |\n",
    "|<center> -              |<center> -                     |<center> -                                      |<center> -                                                                                            |\n",
    "|<center> -              |<center> Boolean                     |<center> -                                      |<center> If an error has occurred, returns False                                                      |\n",
    "\n",
    "This function becomes operable as soon as the SLANTS algorithm is applied on the dataset under consideration.\n",
    "\n",
    "Since the **Model.fit()** was called on the **Synthetic Experiment - (1)** dataset, we can now retrieve the learned model parameters using the following syntax:  "
   ]
  },
  {
   "cell_type": "code",
   "execution_count": 18,
   "metadata": {},
   "outputs": [
    {
     "data": {
      "text/plain": [
       "{'lambda_history': array([[0.00398107+0.j, 0.01      +0.j, 0.02511886+0.j],\n",
       "        [0.00398107+0.j, 0.01      +0.j, 0.02511886+0.j],\n",
       "        [0.00398107+0.j, 0.01      +0.j, 0.02511886+0.j],\n",
       "        ...,\n",
       "        [0.0143245 +0.j, 0.01469179+0.j, 0.0150685 +0.j],\n",
       "        [0.0143245 +0.j, 0.01469179+0.j, 0.0150685 +0.j],\n",
       "        [0.0143245 +0.j, 0.01469179+0.j, 0.0150685 +0.j]]),\n",
       " 'lambda_opt': array([0.01      +0.j, 0.01      +0.j, 0.01      +0.j, ...,\n",
       "        0.01469179+0.j, 0.01469179+0.j, 0.01469179+0.j]),\n",
       " 'tau2_opt': array([0.05516396+0.j, 0.05516396+0.j, 0.05516396+0.j, ...,\n",
       "        2.46799495+0.j, 2.46799495+0.j, 2.46799495+0.j]),\n",
       " 'spline_config': {'order': 3,\n",
       "  'nBspline': 10,\n",
       "  'knots': array([[-1.9601778 , -1.34101545],\n",
       "         [-1.9601778 , -1.34101545],\n",
       "         [-1.9601778 , -1.34101545],\n",
       "         [-1.4545477 , -0.82251469],\n",
       "         [-0.9489176 , -0.30401392],\n",
       "         [-0.4432875 ,  0.21448685],\n",
       "         [ 0.0623426 ,  0.73298762],\n",
       "         [ 0.5679727 ,  1.25148839],\n",
       "         [ 1.0736028 ,  1.76998916],\n",
       "         [ 1.5792329 ,  2.28848993],\n",
       "         [ 2.084863  ,  2.8069907 ],\n",
       "         [ 2.084863  ,  2.8069907 ],\n",
       "         [ 2.084863  ,  2.8069907 ]]),\n",
       "  'knotBox': array([[-1.9601778 , -1.34101545],\n",
       "         [ 2.084863  ,  2.8069907 ]])},\n",
       " 'prediction_err': array([[       nan,        nan,        nan],\n",
       "        [0.00222358, 0.00222358, 0.00222358],\n",
       "        [0.10949516, 0.10944861, 0.10933171],\n",
       "        ...,\n",
       "        [0.04664936, 0.04687401, 0.04710506],\n",
       "        [0.08247767, 0.08354701, 0.08465118],\n",
       "        [0.00332968, 0.00339256, 0.00345776]]),\n",
       " 'prediction_val': array([[        nan,         nan,         nan],\n",
       "        [-0.01108341, -0.01108341, -0.01108341],\n",
       "        [ 0.01056261,  0.01049225,  0.01031554],\n",
       "        ...,\n",
       "        [ 1.11522707,  1.1157465 ,  1.11627944],\n",
       "        [-0.36099454, -0.3591388 , -0.35723504],\n",
       "        [ 0.64077168,  0.64131398,  0.64187099]]),\n",
       " 'coef_history': array([[-0.04650292,  0.09298121,  0.14577629, ..., -0.00677574,\n",
       "          0.08288804,  0.00728766],\n",
       "        [-0.04646719,  0.09290978,  0.14650687, ..., -0.00421493,\n",
       "          0.08331101,  0.00725042],\n",
       "        [-0.0463957 ,  0.09256372,  0.14262316, ...,  0.00468344,\n",
       "          0.08411879,  0.00706438],\n",
       "        ...,\n",
       "        [-0.1554873 , -0.68202488, -1.29443569, ...,  0.        ,\n",
       "          0.        ,  0.        ],\n",
       "        [-0.1552068 , -0.68151722, -1.29417679, ...,  0.        ,\n",
       "          0.        ,  0.        ],\n",
       "        [-0.15492596, -0.68100796, -1.29390386, ...,  0.        ,\n",
       "          0.        ,  0.        ]]),\n",
       " 'coef_opt': array([-0.13910777, -0.66000943, -1.27336764, -1.80268252, -2.06269763,\n",
       "        -1.97690335, -1.78121128, -1.19768667, -0.24690759,  0.1123933 ,\n",
       "         0.        ,  0.        ,  0.        ,  0.        ,  0.        ,\n",
       "         0.        ,  0.        ,  0.        ,  0.        ,  0.        ,\n",
       "         0.        ,  0.        ,  0.        ,  0.        ,  0.        ,\n",
       "         0.        ,  0.        ,  0.        ,  0.        ,  0.        ,\n",
       "         0.        ,  0.        ,  0.        ,  0.        ,  0.        ,\n",
       "         0.        ,  0.        ,  0.        ,  0.        ,  0.        ,\n",
       "         0.        ,  0.        ,  0.        ,  0.        ,  0.        ,\n",
       "         0.        ,  0.        ,  0.        ,  0.        ,  0.        ,\n",
       "         0.        ,  0.        ,  0.        ,  0.        ,  0.        ,\n",
       "         0.        ,  0.        ,  0.        ,  0.        ,  0.        ,\n",
       "         0.        ,  0.        ,  0.        ,  0.        ,  0.        ,\n",
       "         0.        ,  0.        ,  0.        ,  0.        ,  0.        ,\n",
       "         0.        ,  0.        ,  0.        ,  0.        ,  0.        ,\n",
       "         0.        ,  0.        ,  0.        ,  0.        ,  0.        ,\n",
       "         0.        ,  0.        ,  0.        ,  0.        ,  0.        ,\n",
       "         0.        ,  0.        ,  0.        ,  0.        ,  0.        ,\n",
       "         0.        ,  0.        ,  0.        ,  0.        ,  0.        ,\n",
       "         0.        ,  0.        ,  0.        ,  0.        ,  0.        ,\n",
       "         0.        ,  0.        ,  0.        ,  0.        ,  0.        ,\n",
       "         0.        ,  0.        ,  0.        ,  0.        ,  0.        ,\n",
       "         0.        ,  0.        ,  0.        ,  0.        ,  0.        ,\n",
       "         0.        ,  0.        ,  0.        ,  0.        ,  0.        ,\n",
       "         1.25056913,  1.22208073,  1.04549334,  0.55006666,  0.18908301,\n",
       "        -0.20897392, -0.57516954, -1.01131444, -1.15089518, -0.96141488,\n",
       "         0.        ,  0.        ,  0.        ,  0.        ,  0.        ,\n",
       "         0.        ,  0.        ,  0.        ,  0.        ,  0.        ,\n",
       "         0.        ,  0.        ,  0.        ,  0.        ,  0.        ,\n",
       "         0.        ,  0.        ,  0.        ,  0.        ,  0.        ,\n",
       "         0.        ,  0.        ,  0.        ,  0.        ,  0.        ,\n",
       "         0.        ,  0.        ,  0.        ,  0.        ,  0.        ]),\n",
       " 'mean_of_predict_rand_var': 0.5296012659230814,\n",
       " 'sufficient_stats_A': array([[ 1.01529839e-02,  4.65743376e-03, -9.44506064e-04, ...,\n",
       "          9.62556734e-05, -7.82312062e-05, -1.21824926e-04],\n",
       "        [ 4.65743376e-03,  1.72991842e-02,  1.10188075e-02, ...,\n",
       "         -3.37536093e-04, -2.86154550e-04, -1.96054733e-04],\n",
       "        [-9.44506064e-04,  1.10188075e-02,  4.76348686e-02, ...,\n",
       "          6.09743228e-04,  3.43927051e-04,  1.59206710e-04],\n",
       "        ...,\n",
       "        [ 9.62556734e-05, -3.37536093e-04,  6.09743228e-04, ...,\n",
       "          2.39343551e-02,  6.22342458e-03, -2.92823847e-05],\n",
       "        [-7.82312062e-05, -2.86154550e-04,  3.43927051e-04, ...,\n",
       "          6.22342458e-03,  7.98312540e-03,  2.30228180e-03],\n",
       "        [-1.21824926e-04, -1.96054733e-04,  1.59206710e-04, ...,\n",
       "         -2.92823847e-05,  2.30228180e-03,  4.68441207e-03]]),\n",
       " 'sufficient_stats_B': array([[ 1.89313297e-02,  2.66861181e-02,  2.32462349e-02,\n",
       "         -3.27110680e-02, -8.91171584e-02, -7.60334991e-02,\n",
       "         -3.13011842e-02,  2.06169827e-02,  2.42944295e-02,\n",
       "          1.28634095e-02, -1.11919752e-03, -8.80918960e-04,\n",
       "         -7.25364162e-04, -2.85629275e-03,  1.08369966e-03,\n",
       "          5.18533148e-03,  9.89752671e-03, -3.45600980e-03,\n",
       "         -4.14765598e-03, -3.09559612e-03, -2.64361135e-03,\n",
       "         -5.82745612e-03, -2.86767162e-03,  9.08593628e-03,\n",
       "          4.40099147e-03, -5.17651561e-03, -2.75785590e-03,\n",
       "          5.04339597e-03,  1.54638595e-03,  2.06231103e-03,\n",
       "         -7.92840737e-05, -3.46714040e-04, -7.52825890e-04,\n",
       "         -5.27925435e-03, -9.84705039e-03,  8.26389433e-05,\n",
       "         -8.74151520e-04,  3.38696788e-03,  3.41071937e-03,\n",
       "          6.74822104e-04,  5.63160210e-04,  2.51321784e-03,\n",
       "         -9.70222703e-03, -1.43332836e-02,  3.51673541e-03,\n",
       "          3.42498973e-03, -2.70121993e-03,  9.06430555e-04,\n",
       "          6.92556185e-03,  5.11055739e-03, -2.14135655e-03,\n",
       "          2.87631797e-03,  5.01797305e-03, -7.28112763e-03,\n",
       "         -6.53633868e-03,  7.70626488e-03, -7.18814408e-04,\n",
       "         -2.36951556e-03, -1.35173282e-03,  9.34113251e-04,\n",
       "         -1.56434536e-03, -9.50421629e-04,  4.02919743e-03,\n",
       "          5.97537063e-03,  1.04756500e-02, -5.85475715e-03,\n",
       "         -1.23884575e-02,  2.39369232e-03, -1.37636303e-03,\n",
       "         -1.56940454e-03, -1.36730816e-03, -3.72329953e-03,\n",
       "          5.05325529e-04,  6.05669322e-03, -3.15619090e-03,\n",
       "         -7.14127269e-04,  4.10019078e-03, -2.35172529e-03,\n",
       "         -3.03918962e-03, -1.59283505e-03,  2.93932328e-03,\n",
       "         -9.92922278e-05, -1.33141692e-04,  7.40446798e-03,\n",
       "         -5.69546348e-03,  1.92602107e-03,  7.28525980e-03,\n",
       "         -9.61934880e-04, -5.46235911e-03, -3.10473286e-03,\n",
       "         -2.14322818e-04,  3.38253201e-03,  1.20709046e-02,\n",
       "         -4.33545651e-03, -4.70667239e-03,  3.77722807e-03,\n",
       "          1.59235686e-03, -4.02294395e-03, -3.20125074e-04,\n",
       "         -7.38572823e-04,  3.16107838e-04, -1.36181074e-03,\n",
       "          2.50452151e-03, -8.30167042e-03, -1.02004580e-02,\n",
       "          1.04448614e-02,  1.03043438e-02,  9.94750527e-03,\n",
       "         -2.29320639e-03, -2.92179536e-03,  1.14638139e-03,\n",
       "         -1.94901287e-03, -1.47682271e-03,  5.68936866e-03,\n",
       "         -7.63997833e-03, -2.36526486e-03,  7.62909074e-03,\n",
       "          8.57339533e-03,  3.77127063e-03, -8.68833446e-04,\n",
       "          2.84091358e-02,  4.99113748e-02,  9.63286804e-02,\n",
       "          7.76455878e-02,  2.14270856e-02, -4.56970895e-02,\n",
       "         -8.32052413e-02, -8.63041352e-02, -3.87034782e-02,\n",
       "         -1.40084843e-02, -1.56435654e-03, -2.80829117e-03,\n",
       "         -1.09791454e-02, -4.14596982e-03,  1.40905733e-02,\n",
       "          5.93676273e-03,  8.22117355e-05,  1.72628685e-03,\n",
       "          1.15976314e-03,  2.99789324e-04, -2.97366057e-03,\n",
       "         -1.01198546e-03,  3.25804397e-03,  3.72436260e-03,\n",
       "         -5.63567050e-03, -4.85737910e-03,  1.18440224e-03,\n",
       "          1.36329038e-03,  5.44104490e-05, -1.57369438e-03,\n",
       "          2.17379365e-03,  1.39130319e-03,  3.83222390e-03,\n",
       "          1.52920805e-03, -1.06132865e-02, -6.43888113e-03,\n",
       "          9.35138402e-03,  5.20678521e-03, -1.21885612e-03,\n",
       "          3.57085089e-04]])}"
      ]
     },
     "execution_count": 18,
     "metadata": {},
     "output_type": "execute_result"
    }
   ],
   "source": [
    "model.model_params()"
   ]
  },
  {
   "cell_type": "markdown",
   "metadata": {},
   "source": [
    "<ins>Note:</ins> 'coef' refers to the $\\beta$ coefficients. \n",
    "\n",
    "[[back to top]](#top)"
   ]
  },
  {
   "cell_type": "markdown",
   "metadata": {},
   "source": [
    "<a name=\"modreset\"></a>\n",
    "### 3.E. Model.reset_model()"
   ]
  },
  {
   "cell_type": "markdown",
   "metadata": {},
   "source": [
    "In rare situations, the SLANTS model may not seem to work as intended due to errors (for eg: human-errors). For example, when working with multiple datasets at the same time, this problem could arise unknowingly due to the utilization of the same **Model API** object with multiple data sources. In some other cases, halting the model midway abruptly during the fitting phase may also cause the **Model** object to act in an undesired fashion.\n",
    "\n",
    "During such scenarios, the **Model.reset_model()** may be useful to **'restart' the Model API object's normal functionality** by clearing its in-memory resources. The **Model** API object is restored to its original state (i.e., before any fitting was applied to it) without affecting the model persistent-serialized files. Thus, the use of this function is very specific, and is generally not required in normal analytical studies.\n",
    "\n",
    "The **Model.reset_model()** functions do not take any arguments in its function call, and returns a Boolean; **False** when an error occurs, and **True** when the model is successfully reset.\n",
    "\n",
    "This function becomes operable as soon as the SLANTS algorithm is applied on the dataset under consideration.\n",
    "\n",
    "Upon the completion of our analytics study with the **Synthetic Experiment - (1)**, we could call the **Model.reset_model()** function to restore the object to its original state to be used for another dataset, say **Synthetic Experiment - (3)**.  "
   ]
  },
  {
   "cell_type": "code",
   "execution_count": 19,
   "metadata": {},
   "outputs": [
    {
     "name": "stdout",
     "output_type": "stream",
     "text": [
      "==========< Data Preparation Finished >=============\n",
      "Iteration: 100\n",
      "Iteration: 200\n",
      "Iteration: 300\n",
      "Iteration: 400\n",
      "Iteration: 500\n",
      "Iteration: 600\n",
      "Iteration: 700\n",
      "Iteration: 800\n",
      "Iteration: 900\n",
      "Iteration: 1000\n",
      "Iteration: 1100\n",
      "Iteration: 1200\n",
      "Iteration: 1300\n",
      "Iteration: 1400\n",
      "Iteration: 1500\n",
      "Iteration: 1600\n",
      "Iteration: 1700\n",
      "Iteration: 1800\n",
      "Iteration: 1900\n",
      "==========< Sequential Nonlinear Model finished >=============\n"
     ]
    }
   ],
   "source": [
    "# Resetting the model\n",
    "model.reset_model()\n",
    "\n",
    "# loading another dataset [Synthetic Experiment - (3)], retrieving and consolidating model params \n",
    "another_exp = Experiment.load(3) \n",
    "data, predict, maximum_lag, spline_info_order, spline_info_num_Bsplines, forget_factor, lambda_init, tau2_init, sparse_lambda_tolerance, delta_multiplier, shrink_step_size, test_size, safe_shrink_lambda, random_beta = retrieve_tunable_model_params(another_exp)\n",
    "optional_params, spline_info = consolidate_params(test_size, safe_shrink_lambda, random_beta, spline_info_order, spline_info_num_Bsplines)\n",
    "\n",
    "# Fitting another dataset\n",
    "model.fit(data, predict, maximum_lag, spline_info, forget_factor, \n",
    "          lambda_init, tau2_init, sparse_lambda_tolerance,\n",
    "          delta_multiplier, shrink_step_size, **optional_params); # unpacking optional args; used for readability"
   ]
  },
  {
   "cell_type": "markdown",
   "metadata": {},
   "source": [
    "[[back to top]](#top)"
   ]
  },
  {
   "cell_type": "markdown",
   "metadata": {},
   "source": [
    "<a name=\"modhelp\"></a>\n",
    "### 3.F. Model.help()"
   ]
  },
  {
   "cell_type": "markdown",
   "metadata": {},
   "source": [
    "There may be circumstances wherein you may **not have access to the 'slants' Python API documentation**. It could also be that you are using a **REPL interactive environment** and would prefer to **view the 'slants' Python API documentation in the console on-the-fly**. Or you might just find it annoying to refer the entire 'slants' Python API documentation sheet, just to refer some sytatical element or function parameters of the package.\n",
    "\n",
    "In attempt to keep the 'slants' package self-contained, the **Model.help()** method was designed **to faciltate the access of documentation pertaining to the Model Class API**. In essence, this method is simply a wrapper on the help() Python function in order to provide the documentation information slightly more conveniently to you. \n",
    "\n",
    "The **Model.help()** function takes the following arguments in its function call:\n",
    "\n",
    "|<center> Parameter Name |<center> Data Type |<center> Valid Values |<center> Description                                                                       |\n",
    "|----------------|-----------|----------------------|-----------------------------------------------------------------------------------|\n",
    "|<center> method         |<center> String    |<center> -                    |<center> Method name whose documentation is required. Possible values:                     |\n",
    "|<center> -              |<center> -         |<center> fit                  |<center> Fit SLANTS model, default value of parameter                                      |\n",
    "|<center> -              |<center> -         |<center> model_params         |<center> Retrieve SLANTS model parameters                                                  |\n",
    "|<center> -              |<center> -         |<center> plot                 |<center> View diagnostic plots                                                             |\n",
    "|<center> -              |<center> -         |<center> reset_model          |<center> Reset model in case of problems                                                   |\n",
    "|<center> -              |<center> -         |<center> help                 |<center> Display information of help method                                                |\n",
    "|<center> -              |<center> -         |<center> all                  |<center> Display entire documentation of class                                             |\n",
    "|<center> ls             |<center> Boolean   |<center> -                    |<center> Shows the list of available methods, if True. Default value of parameter is False |\n",
    "\n",
    "The **Model.help()** function returns a Boolean to indicate if an error/warning occurred (False) or not (True).\n",
    "\n",
    "Here are the list of features the **Model.help()** can provide you with:\n",
    "\n",
    "[[back to top]](#top)"
   ]
  },
  {
   "cell_type": "markdown",
   "metadata": {},
   "source": [
    "<a name=\"helpls\"></a>\n",
    "#### 3.F.a. Show List of Available Methods in Model Class API"
   ]
  },
  {
   "cell_type": "code",
   "execution_count": 20,
   "metadata": {},
   "outputs": [
    {
     "name": "stdout",
     "output_type": "stream",
     "text": [
      "Here are the list of available methods: \n",
      "\t fit | help | model_params | plot | reset_model\n"
     ]
    },
    {
     "data": {
      "text/plain": [
       "True"
      ]
     },
     "execution_count": 20,
     "metadata": {},
     "output_type": "execute_result"
    }
   ],
   "source": [
    "model.help(ls=True)"
   ]
  },
  {
   "cell_type": "markdown",
   "metadata": {},
   "source": [
    "[[back to top]](#top)"
   ]
  },
  {
   "cell_type": "markdown",
   "metadata": {},
   "source": [
    "<a name=\"helpdoc\"></a>\n",
    "#### 3.F.b. View Documentation of Model Class API"
   ]
  },
  {
   "cell_type": "markdown",
   "metadata": {},
   "source": [
    "By default, a mini-documentation of the **Model.fit()** function will be displayed. This Linux-inspired man-style documentation primarily displays the required/optional arguments to the function and the function return-value along with its function signature."
   ]
  },
  {
   "cell_type": "code",
   "execution_count": 21,
   "metadata": {
    "scrolled": true
   },
   "outputs": [
    {
     "name": "stdout",
     "output_type": "stream",
     "text": [
      "Help on method fit in module slants.api:\n",
      "\n",
      "fit(data, predict, maximum_lag, spline_info, forget_factor, lambda_init, tau2_init, sparse_lambda_tolerance, delta_multiplier, shrink_step_size, online=True, debug_print=False, test_size=50, idle_tau2_tolerance=50, safe_shrink_lambda=2.51188643150958, zero_coef_tolerance=3, shrink_tau2=1.1, random_beta=False) method of slants.api.Model instance\n",
      "    Fits the SLANTS model on data\n",
      "            Note: Data is automatically prepared (standardized + transformed as in the D̃ = Dl step in the paper). Splines are also inherently handled\n",
      "    \n",
      "    Expected Args: {format - [type, description]}\n",
      "            data: Numpy array; Original data matrix, X\n",
      "            predict: Scalar; Column to indicate the random variable to be predicted\n",
      "            maximum_lag: Scalar; Maximum lag, L, to be considered\n",
      "            spline_info: Dictionary; initial spline configuration containing 'order' and 'num_Bsplines'\n",
      "            forget_factor: Numpy vector; comprising ideally decreasing weights in range [0,1] indicating the importance of past values (generally, less significance for older values)\n",
      "            lambda_init: Scalar; LASSO penalty initial value\n",
      "            tau2_init: Scalar; EM decomposition parameter initial value\n",
      "            sparse_lambda_tolerance: Scalar; Favors smaller lambda within spaTol_c tolerance\n",
      "            delta_multiplier: Scalar; Small step size multiplier, to move along the lambda channels\n",
      "            shrink_step_size: Numpy vector; Adjusts lambda before they get out of control, recommended to be equal to 'forget_factor' vector values in case of confusion \n",
      "    \n",
      "    \n",
      "    Optional Args: {format - [default value, description]}\n",
      "            online: True, Boolean to indicate whether online version of SLANTS should be utilized using previous model parameters. Automatically handles situations wherein no past serialized model parameters exist               \n",
      "            debug_print: False, Boolean to indicate internal status of algorithm involving debug print statements\n",
      "            test_size: 50, Number of observations to average prediction error\n",
      "            idle_tau2_tolerance: 50, Increase tau^2 if it idles for a while\n",
      "            safe_shrink_lambda: 10^(0.4), Adjust lambda before they get out of control\n",
      "            zero_coef_tolerance: 3, Shrink lambda if coefficients are 0 for a long time\n",
      "            shrink_tau2: 1.1, Shrink tau^2     \n",
      "            random_beta: False, Use custom provided beta as initializers for the random coefficients\n",
      "    \n",
      "    Returns:\n",
      "            A Dictionary containing the following items:-\n",
      "            pre_err: historical predicted error; 1st column indicates 1st channel, etc. \n",
      "            predict1: historical predicted values; 1st column indicates 1st channel, etc. \n",
      "            gamma_history: historical gamma channels; 1st channel is the smallest one, 3rd channel is the largest one   \n",
      "            gamma_opt: optimized gamma; 2nd channel in gamma_history \n",
      "            alpha_opt: optimized alpha \n",
      "            beta_opt: best coefficient, the last row and second channel related in beta_history  \n",
      "            beta_history: all stored coefficient\n",
      "            spconfig: spline configuration\n",
      "            A, B: sufficient statistics\n",
      "\n"
     ]
    },
    {
     "data": {
      "text/plain": [
       "True"
      ]
     },
     "execution_count": 21,
     "metadata": {},
     "output_type": "execute_result"
    }
   ],
   "source": [
    "model.help('fit') # model.help() defaults to this call"
   ]
  },
  {
   "cell_type": "code",
   "execution_count": 22,
   "metadata": {
    "scrolled": true
   },
   "outputs": [
    {
     "name": "stdout",
     "output_type": "stream",
     "text": [
      "Help on method plot in module slants.api:\n",
      "\n",
      "plot(kind='coef') method of slants.api.Model instance\n",
      "    Graphs a type of plot associated with the model to track the tuning parameters  \n",
      "    \n",
      "    Expected Args:\n",
      "            kind: Type of requested plot to be graphed using the model parameters. At the moment, 4 types of plot can be created:\n",
      "                    (1) lambda = Optimal Lambda Plot\n",
      "                    (2) tau = Optimal Tau Plot\n",
      "                    (3) coef = Coefficient-Time Plot\n",
      "                    (4) trace = Trace of the nonlinear functions\n",
      "    \n",
      "    \n",
      "    Returns:\n",
      "            False, if a type mismatch occurs\n",
      "\n"
     ]
    },
    {
     "data": {
      "text/plain": [
       "True"
      ]
     },
     "execution_count": 22,
     "metadata": {},
     "output_type": "execute_result"
    }
   ],
   "source": [
    "model.help('plot') # Show documentation of plot function"
   ]
  },
  {
   "cell_type": "markdown",
   "metadata": {},
   "source": [
    "[[back to top]](#top)"
   ]
  },
  {
   "cell_type": "markdown",
   "metadata": {},
   "source": [
    "<a name=\"helpclass\"></a>\n",
    "#### 3.F.c. View Documentation of the Entire Class"
   ]
  },
  {
   "cell_type": "code",
   "execution_count": 23,
   "metadata": {},
   "outputs": [
    {
     "name": "stdout",
     "output_type": "stream",
     "text": [
      "Help on Model in module slants.api object:\n",
      "\n",
      "class Model(builtins.object)\n",
      " |  Utility Class for the Raw Implementation of the SLANTS algorithm\n",
      " |  \n",
      " |  Description:\n",
      " |          Provisions the underlying logic behind the building blocks of the algorithm, such as the data preprocessing and Glasso EM steps\n",
      " |  \n",
      " |  Methods defined here:\n",
      " |  \n",
      " |  fit(self, data, predict, maximum_lag, spline_info, forget_factor, lambda_init, tau2_init, sparse_lambda_tolerance, delta_multiplier, shrink_step_size, online=True, debug_print=False, test_size=50, idle_tau2_tolerance=50, safe_shrink_lambda=2.51188643150958, zero_coef_tolerance=3, shrink_tau2=1.1, random_beta=False)\n",
      " |      Fits the SLANTS model on data\n",
      " |              Note: Data is automatically prepared (standardized + transformed as in the D̃ = Dl step in the paper). Splines are also inherently handled\n",
      " |      \n",
      " |      Expected Args: {format - [type, description]}\n",
      " |              data: Numpy array; Original data matrix, X\n",
      " |              predict: Scalar; Column to indicate the random variable to be predicted\n",
      " |              maximum_lag: Scalar; Maximum lag, L, to be considered\n",
      " |              spline_info: Dictionary; initial spline configuration containing 'order' and 'num_Bsplines'\n",
      " |              forget_factor: Numpy vector; comprising ideally decreasing weights in range [0,1] indicating the importance of past values (generally, less significance for older values)\n",
      " |              lambda_init: Scalar; LASSO penalty initial value\n",
      " |              tau2_init: Scalar; EM decomposition parameter initial value\n",
      " |              sparse_lambda_tolerance: Scalar; Favors smaller lambda within spaTol_c tolerance\n",
      " |              delta_multiplier: Scalar; Small step size multiplier, to move along the lambda channels\n",
      " |              shrink_step_size: Numpy vector; Adjusts lambda before they get out of control, recommended to be equal to 'forget_factor' vector values in case of confusion \n",
      " |      \n",
      " |      \n",
      " |      Optional Args: {format - [default value, description]}\n",
      " |              online: True, Boolean to indicate whether online version of SLANTS should be utilized using previous model parameters. Automatically handles situations wherein no past serialized model parameters exist               \n",
      " |              debug_print: False, Boolean to indicate internal status of algorithm involving debug print statements\n",
      " |              test_size: 50, Number of observations to average prediction error\n",
      " |              idle_tau2_tolerance: 50, Increase tau^2 if it idles for a while\n",
      " |              safe_shrink_lambda: 10^(0.4), Adjust lambda before they get out of control\n",
      " |              zero_coef_tolerance: 3, Shrink lambda if coefficients are 0 for a long time\n",
      " |              shrink_tau2: 1.1, Shrink tau^2     \n",
      " |              random_beta: False, Use custom provided beta as initializers for the random coefficients\n",
      " |      \n",
      " |      Returns:\n",
      " |              A Dictionary containing the following items:-\n",
      " |              pre_err: historical predicted error; 1st column indicates 1st channel, etc. \n",
      " |              predict1: historical predicted values; 1st column indicates 1st channel, etc. \n",
      " |              gamma_history: historical gamma channels; 1st channel is the smallest one, 3rd channel is the largest one   \n",
      " |              gamma_opt: optimized gamma; 2nd channel in gamma_history \n",
      " |              alpha_opt: optimized alpha \n",
      " |              beta_opt: best coefficient, the last row and second channel related in beta_history  \n",
      " |              beta_history: all stored coefficient\n",
      " |              spconfig: spline configuration\n",
      " |              A, B: sufficient statistics\n",
      " |  \n",
      " |  help(self, method='fit', ls=False)\n",
      " |      Wrapper to show a Linux 'man'-like help documentation for methods/class   \n",
      " |      \n",
      " |      Expected Args:\n",
      " |              method: Method name whose documentation is required. Possible values:\n",
      " |                      (1) fit = Fit SLANTS model\n",
      " |                      (2) model_params = Retrieve SLANTS model parameters\n",
      " |                      (3) plot = Coefficient-Time Plot\n",
      " |                      (4) reset_model = Trace of the nonlinear functions\n",
      " |                      (5) help = Display information of help method\n",
      " |                      (6) all = Display entire documentation of class \n",
      " |              ls: Shows the list of available methods\n",
      " |  \n",
      " |  model_params(self, filename='None')\n",
      " |      Returns a dictionary containing the model parameters \n",
      " |      \n",
      " |      Optiona; Args:\n",
      " |              filename: Name of the serialized model file \n",
      " |      \n",
      " |      Returns:\n",
      " |              A Dictionary containing the following items:-\n",
      " |              prediction_err: Historical predicted error; 1st column indicates 1st channel, etc. \n",
      " |              prediction_val: Historical predicted values; 1st column indicates 1st channel, etc. \n",
      " |              lambda_history: Historical lambda channels; 1st channel is the smallest one, 3rd channel is the largest one   \n",
      " |              lambda_opt: Optimized lambda; 2nd channel in lambda_history \n",
      " |              tau2_opt: Optimized Tau^2 \n",
      " |              coef_opt: Best coefficient, the last row and second channel related in coef_history  \n",
      " |              coef_history: All stored coefficient\n",
      " |              spline_config: Spline configuration\n",
      " |              sufficient_stats_A, sufficient_stats_B: Sufficient statistics\n",
      " |  \n",
      " |  plot(self, kind='coef')\n",
      " |      Graphs a type of plot associated with the model to track the tuning parameters  \n",
      " |      \n",
      " |      Expected Args:\n",
      " |              kind: Type of requested plot to be graphed using the model parameters. At the moment, 4 types of plot can be created:\n",
      " |                      (1) lambda = Optimal Lambda Plot\n",
      " |                      (2) tau = Optimal Tau Plot\n",
      " |                      (3) coef = Coefficient-Time Plot\n",
      " |                      (4) trace = Trace of the nonlinear functions\n",
      " |      \n",
      " |      \n",
      " |      Returns:\n",
      " |              False, if a type mismatch occurs\n",
      " |  \n",
      " |  reset_model(self)\n",
      " |      Reset internal model parameters and spline configuration, maybe useful if the model is not performing as required   \n",
      " |      \n",
      " |      Expected Args:\n",
      " |              None\n",
      " |      \n",
      " |      Returns:\n",
      " |              False, if SLANTS model is already in reset mode\n",
      " |  \n",
      " |  ----------------------------------------------------------------------\n",
      " |  Data descriptors defined here:\n",
      " |  \n",
      " |  __dict__\n",
      " |      dictionary for instance variables (if defined)\n",
      " |  \n",
      " |  __weakref__\n",
      " |      list of weak references to the object (if defined)\n",
      "\n"
     ]
    },
    {
     "data": {
      "text/plain": [
       "True"
      ]
     },
     "execution_count": 23,
     "metadata": {},
     "output_type": "execute_result"
    }
   ],
   "source": [
    "model.help('all')"
   ]
  },
  {
   "cell_type": "markdown",
   "metadata": {},
   "source": [
    "[[back to top]](#top)"
   ]
  },
  {
   "cell_type": "markdown",
   "metadata": {},
   "source": [
    "<a name=\"helpprompt\"></a>\n",
    "#### 3.F.d. Interactive Prompt\n",
    "If by mistake an incorrect method name was passed, a list of the available **Model Class** API methods are displayed on the screen and at the same an interactive prompt will ask you for your opinion. "
   ]
  },
  {
   "cell_type": "code",
   "execution_count": 24,
   "metadata": {},
   "outputs": [
    {
     "name": "stdout",
     "output_type": "stream",
     "text": [
      "<WARNING> Looks like \"reset_models\"\" method does not exist. Here are the list of available methods: \n",
      "\t fit | help | model_params | plot | reset_model\n",
      "Were you looking to check the entire class documentation instead? (y/n)n\n",
      "<WARNING> Try again with one of the valid methods listed above.\n"
     ]
    },
    {
     "data": {
      "text/plain": [
       "False"
      ]
     },
     "execution_count": 24,
     "metadata": {},
     "output_type": "execute_result"
    }
   ],
   "source": [
    "model.help('reset_models')"
   ]
  },
  {
   "cell_type": "markdown",
   "metadata": {},
   "source": [
    "[[back to top]](#top)"
   ]
  },
  {
   "cell_type": "markdown",
   "metadata": {},
   "source": [
    "<a name=\"conc\"></a>\n",
    "### 4. Conclusion - To Wrap Things Up "
   ]
  },
  {
   "cell_type": "markdown",
   "metadata": {},
   "source": [
    "**Thank you for your time in referring to this comprehensive documentation!** In this process, we hope you, as the user, would have gained some hands-on experience with **'slants' API** so as to make you confident to use the API as you need. "
   ]
  },
  {
   "cell_type": "markdown",
   "metadata": {},
   "source": [
    "[[back to top]](#top)"
   ]
  }
 ],
 "metadata": {
  "kernelspec": {
   "display_name": "Python 3",
   "language": "python",
   "name": "python3"
  },
  "language_info": {
   "codemirror_mode": {
    "name": "ipython",
    "version": 3
   },
   "file_extension": ".py",
   "mimetype": "text/x-python",
   "name": "python",
   "nbconvert_exporter": "python",
   "pygments_lexer": "ipython3",
   "version": "3.7.3"
  }
 },
 "nbformat": 4,
 "nbformat_minor": 2
}
